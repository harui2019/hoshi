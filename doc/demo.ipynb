{
 "cells": [
  {
   "attachments": {},
   "cell_type": "markdown",
   "metadata": {},
   "source": [
    "# Demo"
   ]
  },
  {
   "cell_type": "code",
   "execution_count": 1,
   "metadata": {},
   "outputs": [],
   "source": [
    "try:\n",
    "    from hoshi import Hoshi\n",
    "except ModuleNotFoundError:\n",
    "    import sys\n",
    "    sys.path.insert(0, '../')\n",
    "    from hoshi import Hoshi"
   ]
  },
  {
   "attachments": {},
   "cell_type": "markdown",
   "metadata": {},
   "source": [
    "## How to use"
   ]
  },
  {
   "cell_type": "code",
   "execution_count": 2,
   "metadata": {},
   "outputs": [],
   "source": [
    "qiskit_version = '0.42.1'\n",
    "latest_version = '0.43.0'"
   ]
  },
  {
   "cell_type": "code",
   "execution_count": 3,
   "metadata": {},
   "outputs": [
    {
     "data": {
      "text/plain": [
       "------------------------------------------------------------\n",
       " ### Qiskit version outdated warning\n",
       " - Local Qiskit version --------- 0.42.1\n",
       " - Latest Qiskit version -------- 0.43.0\n",
       " Please keep mind on your qiskit version, an very outdated version may cause some problems.\n",
       " - Latest Qiskit version -------- latest_version\n",
       "by <Hoshi>"
      ]
     },
     "execution_count": 3,
     "metadata": {},
     "output_type": "execute_result"
    }
   ],
   "source": [
    "check_msg = Hoshi(\n",
    "    [\n",
    "        ('divider', 60),\n",
    "        {\n",
    "            'type': 'h3',\n",
    "            'title': 'Qiskit version outdated warning',\n",
    "        },\n",
    "        ('itemize', 'Local Qiskit version', qiskit_version),\n",
    "    ],\n",
    "    ljust_describe_len=40,\n",
    ")\n",
    "check_msg.itemize(\n",
    "    'Latest Qiskit version', latest_version\n",
    ")\n",
    "\n",
    "check_msg.txt(\"Please keep mind on your qiskit version, an very outdated version may cause some problems.\")\n",
    "check_msg.itemize(\n",
    "    'Latest Qiskit version', 'latest_version'\n",
    ")\n",
    "\n",
    "check_msg"
   ]
  },
  {
   "cell_type": "code",
   "execution_count": 4,
   "metadata": {},
   "outputs": [
    {
     "name": "stdout",
     "output_type": "stream",
     "text": [
      "------------------------------------------------------------\n",
      " ### Qiskit version outdated warning\n",
      " - Local Qiskit version --------- 0.42.1\n",
      " - Latest Qiskit version -------- 0.43.0\n",
      " Please keep mind on your qiskit version, an very outdated version may cause some problems.\n",
      " - Latest Qiskit version -------- latest_version\n",
      "\n"
     ]
    }
   ],
   "source": [
    "print(check_msg)"
   ]
  },
  {
   "cell_type": "code",
   "execution_count": null,
   "metadata": {},
   "outputs": [],
   "source": []
  }
 ],
 "metadata": {
  "kernelspec": {
   "display_name": "base",
   "language": "python",
   "name": "python3"
  },
  "language_info": {
   "codemirror_mode": {
    "name": "ipython",
    "version": 3
   },
   "file_extension": ".py",
   "mimetype": "text/x-python",
   "name": "python",
   "nbconvert_exporter": "python",
   "pygments_lexer": "ipython3",
   "version": "3.9.7"
  },
  "orig_nbformat": 4
 },
 "nbformat": 4,
 "nbformat_minor": 2
}
